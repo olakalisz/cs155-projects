{
 "cells": [
  {
   "cell_type": "markdown",
   "metadata": {},
   "source": [
    "# Overview\n",
    "This notebook generates the first layer of meta features."
   ]
  },
  {
   "cell_type": "code",
   "execution_count": 1,
   "metadata": {
    "collapsed": false
   },
   "outputs": [],
   "source": [
    "import numpy as np\n",
    "from sklearn.model_selection import KFold"
   ]
  },
  {
   "cell_type": "code",
   "execution_count": 2,
   "metadata": {
    "colab": {
     "autoexec": {
      "startup": false,
      "wait_interval": 0
     }
    },
    "colab_type": "code",
    "collapsed": false,
    "id": "43NFTsrLKeey"
   },
   "outputs": [],
   "source": [
    "training_data = np.loadtxt('../data/training_data.txt', skiprows=1)\n",
    "X_test = np.loadtxt('../data/test_data.txt', skiprows=1)"
   ]
  },
  {
   "cell_type": "markdown",
   "metadata": {},
   "source": [
    "For generating the meta features, __always__ use 5-fold CV with random seed 214. Predict each training data in each fold using other 4 folds. For test data, either use all of training data or best CV classifier, whichever makes more sense for the algorithm (are we just hyper-parameter tuning? is early stopping required?)."
   ]
  },
  {
   "cell_type": "code",
   "execution_count": 45,
   "metadata": {
    "collapsed": false
   },
   "outputs": [],
   "source": [
    "X_train = training_data[:,1:]\n",
    "y_train = training_data[:,0]\n",
    "kf = KFold(n_splits=5, shuffle=True, random_state=214)"
   ]
  },
  {
   "cell_type": "markdown",
   "metadata": {},
   "source": [
    "# K-Nearest Neighbors"
   ]
  },
  {
   "cell_type": "code",
   "execution_count": 91,
   "metadata": {
    "collapsed": false
   },
   "outputs": [],
   "source": [
    "from sklearn.neighbors import KNeighborsClassifier\n",
    "def KNN(k):\n",
    "    manhattan_classes_train = np.empty(y_train.shape)\n",
    "    euclidean_classes_train = np.empty(y_train.shape)\n",
    "    braycurtis_classes_train = np.empty(y_train.shape)\n",
    "    manhattan_classes_test = np.empty(X_test.shape[0])\n",
    "    euclidean_classes_test = np.empty(X_test.shape[0])\n",
    "    braycurtis_classes_test = np.empty(X_test.shape[0])\n",
    "    \n",
    "    cursplit = 0;\n",
    "    \n",
    "    for train_index, test_index in kf.split(X_train, y_train):\n",
    "        cursplit += 1\n",
    "        print('KNN k=%d, split=%d manhattan' % (k, cursplit))\n",
    "        knn = KNeighborsClassifier(n_neighbors=k, p=2)\n",
    "        knn.fit(X_train[train_index], y_train[train_index])\n",
    "        manhattan_classes[test_index] = knn.predict_proba(X_train[test_index])[:, 1]\n",
    "\n",
    "        print('KNN k=%d, split=%d euclidean' % (k, cursplit))\n",
    "        knn = KNeighborsClassifier(n_neighbors=k, p=1)\n",
    "        knn.fit(X_train[train_index], y_train[train_index])\n",
    "        euclidean_classes[test_index] = knn.predict_proba(X_train[test_index])[:, 1]\n",
    "\n",
    "        print('KNN k=%d, split=%d braycurtis' % (k, cursplit))\n",
    "        knn = KNeighborsClassifier(n_neighbors=k, metric='braycurtis')\n",
    "        knn.fit(X_train[train_index], y_train[train_index])\n",
    "        braycurtis_classes[test_index] = knn.predict_proba(X_train[test_index])[:, 1]\n",
    "    \n",
    "    print('KNN k=%d, test manhattan' % (k))\n",
    "    knn = KNeighborsClassifier(n_neighbors=k, p=2)\n",
    "    knn.fit(X_train, y_train)\n",
    "    manhattan_classes_test = knn.predict_proba(X_test)[:, 1]\n",
    "    \n",
    "    print('KNN k=%d, test euclidean' % (k))\n",
    "    knn = KNeighborsClassifier(n_neighbors=k, p=1)\n",
    "    knn.fit(X_train, y_train)\n",
    "    euclidean_classes_test = knn.predict_proba(X_test)[:, 1]\n",
    "    \n",
    "    print('KNN k=%d, test braycurtis' % (k))\n",
    "    knn = KNeighborsClassifier(n_neighbors=k, metric='braycurtis')\n",
    "    knn.fit(X_train, y_train)\n",
    "    braycurtis_classes_test = knn.predict_proba(X_test)[:, 1]\n",
    "\n",
    "    return [manhattan_classes, euclidean_classes, braycurtis_classes], [manhattan_classes_test, euclidean_classes_test, braycurtis_classes_test]"
   ]
  },
  {
   "cell_type": "code",
   "execution_count": null,
   "metadata": {
    "collapsed": false
   },
   "outputs": [
    {
     "name": "stdout",
     "output_type": "stream",
     "text": [
      "Generating meta features for KNN k=4\n",
      "KNN k=4, split=1 manhattan\n",
      "KNN k=4, split=1 euclidean\n",
      "KNN k=4, split=1 braycurtis\n",
      "KNN k=4, split=2 manhattan\n",
      "KNN k=4, split=2 euclidean\n",
      "KNN k=4, split=2 braycurtis\n",
      "KNN k=4, split=3 manhattan\n",
      "KNN k=4, split=3 euclidean\n",
      "KNN k=4, split=3 braycurtis\n",
      "KNN k=4, split=4 manhattan\n",
      "KNN k=4, split=4 euclidean\n",
      "KNN k=4, split=4 braycurtis\n",
      "KNN k=4, split=5 manhattan\n",
      "KNN k=4, split=5 euclidean\n",
      "KNN k=4, split=5 braycurtis\n",
      "KNN k=4, test manhattan\n",
      "KNN k=4, test euclidean\n",
      "KNN k=4, test braycurtis\n",
      "Generating meta features for KNN k=8\n",
      "KNN k=8, split=1 manhattan\n",
      "KNN k=8, split=1 euclidean\n",
      "KNN k=8, split=1 braycurtis\n",
      "KNN k=8, split=2 manhattan\n",
      "KNN k=8, split=2 euclidean\n",
      "KNN k=8, split=2 braycurtis\n",
      "KNN k=8, split=3 manhattan\n",
      "KNN k=8, split=3 euclidean\n",
      "KNN k=8, split=3 braycurtis\n",
      "KNN k=8, split=4 manhattan\n",
      "KNN k=8, split=4 euclidean\n",
      "KNN k=8, split=4 braycurtis\n",
      "KNN k=8, split=5 manhattan\n",
      "KNN k=8, split=5 euclidean\n",
      "KNN k=8, split=5 braycurtis\n",
      "KNN k=8, test manhattan\n",
      "KNN k=8, test euclidean\n",
      "KNN k=8, test braycurtis\n",
      "Generating meta features for KNN k=16\n",
      "KNN k=16, split=1 manhattan\n",
      "KNN k=16, split=1 euclidean\n",
      "KNN k=16, split=1 braycurtis\n",
      "KNN k=16, split=2 manhattan\n",
      "KNN k=16, split=2 euclidean\n",
      "KNN k=16, split=2 braycurtis\n",
      "KNN k=16, split=3 manhattan\n",
      "KNN k=16, split=3 euclidean\n",
      "KNN k=16, split=3 braycurtis\n",
      "KNN k=16, split=4 manhattan\n",
      "KNN k=16, split=4 euclidean\n",
      "KNN k=16, split=4 braycurtis\n",
      "KNN k=16, split=5 manhattan\n",
      "KNN k=16, split=5 euclidean\n",
      "KNN k=16, split=5 braycurtis\n",
      "KNN k=16, test manhattan\n",
      "KNN k=16, test euclidean\n",
      "KNN k=16, test braycurtis\n",
      "Generating meta features for KNN k=32\n",
      "KNN k=32, split=1 manhattan\n",
      "KNN k=32, split=1 euclidean\n",
      "KNN k=32, split=1 braycurtis\n",
      "KNN k=32, split=2 manhattan\n",
      "KNN k=32, split=2 euclidean\n",
      "KNN k=32, split=2 braycurtis\n",
      "KNN k=32, split=3 manhattan\n",
      "KNN k=32, split=3 euclidean\n",
      "KNN k=32, split=3 braycurtis\n",
      "KNN k=32, split=4 manhattan\n",
      "KNN k=32, split=4 euclidean\n",
      "KNN k=32, split=4 braycurtis\n",
      "KNN k=32, split=5 manhattan\n",
      "KNN k=32, split=5 euclidean\n",
      "KNN k=32, split=5 braycurtis\n",
      "KNN k=32, test manhattan\n",
      "KNN k=32, test euclidean\n",
      "KNN k=32, test braycurtis\n",
      "Generating meta features for KNN k=64\n",
      "KNN k=64, split=1 manhattan\n",
      "KNN k=64, split=1 euclidean\n",
      "KNN k=64, split=1 braycurtis\n",
      "KNN k=64, split=2 manhattan\n",
      "KNN k=64, split=2 euclidean\n",
      "KNN k=64, split=2 braycurtis\n",
      "KNN k=64, split=3 manhattan\n",
      "KNN k=64, split=3 euclidean\n",
      "KNN k=64, split=3 braycurtis\n",
      "KNN k=64, split=4 manhattan\n",
      "KNN k=64, split=4 euclidean\n",
      "KNN k=64, split=4 braycurtis\n",
      "KNN k=64, split=5 manhattan\n",
      "KNN k=64, split=5 euclidean\n",
      "KNN k=64, split=5 braycurtis\n",
      "KNN k=64, test manhattan\n",
      "KNN k=64, test euclidean\n",
      "KNN k=64, test braycurtis\n",
      "Generating meta features for KNN k=128\n",
      "KNN k=128, split=1 manhattan\n",
      "KNN k=128, split=1 euclidean\n",
      "KNN k=128, split=1 braycurtis\n",
      "KNN k=128, split=2 manhattan\n",
      "KNN k=128, split=2 euclidean\n",
      "KNN k=128, split=2 braycurtis\n",
      "KNN k=128, split=3 manhattan\n",
      "KNN k=128, split=3 euclidean\n",
      "KNN k=128, split=3 braycurtis\n",
      "KNN k=128, split=4 manhattan\n",
      "KNN k=128, split=4 euclidean\n",
      "KNN k=128, split=4 braycurtis\n",
      "KNN k=128, split=5 manhattan\n",
      "KNN k=128, split=5 euclidean\n",
      "KNN k=128, split=5 braycurtis\n",
      "KNN k=128, test manhattan\n",
      "KNN k=128, test euclidean\n",
      "KNN k=128, test braycurtis\n",
      "Generating meta features for KNN k=256\n",
      "KNN k=256, split=1 manhattan\n",
      "KNN k=256, split=1 euclidean\n",
      "KNN k=256, split=1 braycurtis\n",
      "KNN k=256, split=2 manhattan\n",
      "KNN k=256, split=2 euclidean\n",
      "KNN k=256, split=2 braycurtis\n",
      "KNN k=256, split=3 manhattan\n",
      "KNN k=256, split=3 euclidean\n",
      "KNN k=256, split=3 braycurtis\n",
      "KNN k=256, split=4 manhattan\n",
      "KNN k=256, split=4 euclidean\n",
      "KNN k=256, split=4 braycurtis\n",
      "KNN k=256, split=5 manhattan\n",
      "KNN k=256, split=5 euclidean\n",
      "KNN k=256, split=5 braycurtis\n",
      "KNN k=256, test manhattan\n",
      "KNN k=256, test euclidean\n",
      "KNN k=256, test braycurtis\n",
      "Generating meta features for KNN k=512\n",
      "KNN k=512, split=1 manhattan\n",
      "KNN k=512, split=1 euclidean\n",
      "KNN k=512, split=1 braycurtis\n",
      "KNN k=512, split=2 manhattan\n",
      "KNN k=512, split=2 euclidean\n",
      "KNN k=512, split=2 braycurtis\n",
      "KNN k=512, split=3 manhattan\n",
      "KNN k=512, split=3 euclidean\n",
      "KNN k=512, split=3 braycurtis\n",
      "KNN k=512, split=4 manhattan\n",
      "KNN k=512, split=4 euclidean\n",
      "KNN k=512, split=4 braycurtis\n",
      "KNN k=512, split=5 manhattan\n",
      "KNN k=512, split=5 euclidean\n",
      "KNN k=512, split=5 braycurtis\n",
      "KNN k=512, test manhattan\n",
      "KNN k=512, test euclidean\n",
      "KNN k=512, test braycurtis\n",
      "Generating meta features for KNN k=1024\n",
      "KNN k=1024, split=1 manhattan\n",
      "KNN k=1024, split=1 euclidean\n",
      "KNN k=1024, split=1 braycurtis\n",
      "KNN k=1024, split=2 manhattan\n",
      "KNN k=1024, split=2 euclidean\n",
      "KNN k=1024, split=2 braycurtis\n",
      "KNN k=1024, split=3 manhattan\n",
      "KNN k=1024, split=3 euclidean\n",
      "KNN k=1024, split=3 braycurtis\n",
      "KNN k=1024, split=4 manhattan\n",
      "KNN k=1024, split=4 euclidean\n",
      "KNN k=1024, split=4 braycurtis\n",
      "KNN k=1024, split=5 manhattan\n",
      "KNN k=1024, split=5 euclidean\n",
      "KNN k=1024, split=5 braycurtis\n",
      "KNN k=1024, test manhattan\n",
      "KNN k=1024, test euclidean\n"
     ]
    }
   ],
   "source": [
    "for power in range(2, 11):\n",
    "    k = 2 ** power\n",
    "    print('Generating meta features for KNN k=%d' % k)\n",
    "    train_results, test_results = KNN(k)\n",
    "    train_results = np.stack(train_results, axis=-1)\n",
    "    test_results = np.stack(test_results, axis=-1)\n",
    "    np.savetxt('../inferences/knn_%d_train.txt' % k ,train_results, fmt='%.6g')\n",
    "    np.savetxt('../inferences/knn_%d_test.txt' % k ,test_results, fmt='%.6g')"
   ]
  },
  {
   "cell_type": "markdown",
   "metadata": {},
   "source": [
    "# Adaboost"
   ]
  },
  {
   "cell_type": "code",
   "execution_count": null,
   "metadata": {
    "collapsed": true
   },
   "outputs": [],
   "source": [
    "from sklearn.ensemble import AdaBoostClassifier\n",
    "def AdaBoost(n_estimators=250, learning_rate=1):\n",
    "    adaboost_classes_train = np.empty(y_train.shape)\n",
    "    adaboost_classes_test = np.empty(X_test.shape[0])\n",
    "\n",
    "    cursplit = 0;\n",
    "    \n",
    "    for train_index, test_index in kf.split(X_train, y_train):\n",
    "        cursplit += 1\n",
    "        print('Adaboost, split=%d' % (cursplit))\n",
    "        clf = AdaBoostClassifier(n_estimators=n_estimators, learning_rate=learning_rate)\n",
    "        clf.fit(X_train[train_index], y_train[train_index])\n",
    "        adaboost_classes_train[test_index] = clf.predict_proba(X_train[test_index])[:, 1]\n",
    "    \n",
    "    print('Adaboost, test')\n",
    "    clf = AdaBoostClassifier(n_estimators=n_estimators, learning_rate=learning_rate)\n",
    "    clf.fit(X_train, y_train)\n",
    "    adaboost_classes_test = clf.predict_proba(X_test)[:, 1]\n",
    "    \n",
    "    return adaboost_classes_train, adaboost_classes_test"
   ]
  },
  {
   "cell_type": "code",
   "execution_count": null,
   "metadata": {
    "collapsed": true
   },
   "outputs": [],
   "source": [
    "from sklearn.ensemble import RandomForestClassifier\n",
    "def RandomForest(n_estimators=250):\n",
    "    rf_classes_train = np.empty(y_train.shape)\n",
    "    rf_classes_test = np.empty(X_test.shape[0])\n",
    "\n",
    "    cursplit = 0;\n",
    "    \n",
    "    for train_index, test_index in kf.split(X_train, y_train):\n",
    "        cursplit += 1\n",
    "        print('RandomForest, split=%d' % (cursplit))\n",
    "        clf = RandomForestClassifier(n_estimators=n_estimators, max_features='sqrt', criterion='gini', max_depth=2, min_samples_split=178)\n",
    "        clf.fit(X_train[train_index], y_train[train_index])\n",
    "        rf_classes_train[test_index] = clf.predict_(X_train[test_index])\n",
    "    \n",
    "    print('RandomForest, test')\n",
    "    clf = RandomForestClassifier(n_estimators=n_estimators, max_features='sqrt', criterion='gini', max_depth=2, min_samples_split=178)\n",
    "    clf.fit(X_train, y_train)\n",
    "    rf_classes_test = clf.predict(X_test)\n",
    "    \n",
    "    return rf_classes_train, rf_classes_test"
   ]
  },
  {
   "cell_type": "code",
   "execution_count": null,
   "metadata": {
    "collapsed": true
   },
   "outputs": [],
   "source": [
    "!pip install -q xgboost==0.7post3\n",
    "import xgboost as xgb\n",
    "def XGBoost():\n",
    "    xgb_classes_train = np.empty(y_train.shape)\n",
    "    xgb_classes_test = np.empty(X_test.shape[0])\n",
    "    param = {'booster':'gbtree', 'max_depth':18, 'eta':0.03, 'silent':1, \n",
    "         'objective':'binary:logistic', 'eval_metric':['error', 'logloss'], \n",
    "         'colsample_bytree':0.7, 'subsample':1, 'gamma':1,\n",
    "         'min_child_weight':1, 'tree_method':'hist'}\n",
    "    cursplit = 0;\n",
    "    \n",
    "    for train_index, test_index in kf.split(X_train, y_train):\n",
    "        cursplit += 1\n",
    "        print('XGBoost, split=%d' % (cursplit))\n",
    "        dtrain = xgb.DMatrix(X_train[train_index], label=y_train[train_index])\n",
    "        dtest = xgb.DMatrix(X_train[test_index], label=y_train[test_index])\n",
    "        evallist = [(dtrain, 'train'), (dtest, 'eval')]\n",
    "        bst = xgb.train(param, dtrain, 200000, evallist, verbose_eval=100, early_stopping_rounds=50)\n",
    "        xgb_classes_train[test_index] = bst.predict(dtest)\n",
    "    \n",
    "    print('XGBoost, test')\n",
    "    dtrain = xgb.DMatrix(X_train, label=y_train)\n",
    "    dtest = xgb.DMatrix(X_test)\n",
    "    bst = xgb.train(param, dtrain, 200000, evallist, verbose_eval=100, early_stopping_rounds=50)\n",
    "    xgb_classes_test = bst.predict(dtest)\n",
    "    \n",
    "    return xgb_classes_train, xgb_classes_test, bst"
   ]
  },
  {
   "cell_type": "markdown",
   "metadata": {},
   "source": [
    "## <font color='red'>Do not run cells below this</font>"
   ]
  },
  {
   "cell_type": "code",
   "execution_count": 86,
   "metadata": {
    "collapsed": true
   },
   "outputs": [],
   "source": [
    "# Calculate TF-IDF weighted inputs from training data\n",
    "max_term_freqs = np.maximum(np.max(X_train, axis=1), 1)\n",
    "term_freq = X_train / max_term_freqs[:,np.newaxis]\n",
    "inverse_doc_freq = np.log((X_train.shape[0] + X_test.shape[0]) / (np.count_nonzero(X_train, axis=0) + np.count_nonzero(X_test, axis=0)))\n",
    "X_train_tfidf = term_freq * inverse_doc_freq[np.newaxis,:]\n",
    "\n",
    "\n",
    "max_term_freqs_test = np.maximum(np.max(X_test, axis=1), 1)\n",
    "term_freq_test = X_test / max_term_freqs_test[:,np.newaxis]\n",
    "X_test_tfidf = term_freq_test * inverse_doc_freq[np.newaxis,:]\n",
    "\n",
    "X_mean = np.concatenate([X_train_tfidf,X_test_tfidf]).mean(axis=0)\n",
    "X_std = np.concatenate([X_train_tfidf,X_test_tfidf]).std(axis=0)\n",
    "X_train_tfidf_normed = (X_train_tfidf - X_mean) / X_std\n",
    "X_test_tfidf_normed = (X_test_tfidf - X_mean) / X_std"
   ]
  }
 ],
 "metadata": {
  "accelerator": "GPU",
  "colab": {
   "collapsed_sections": [],
   "default_view": {},
   "name": "MP1.ipynb",
   "provenance": [],
   "toc_visible": true,
   "version": "0.3.2",
   "views": {}
  },
  "kernelspec": {
   "display_name": "Python 3",
   "language": "python",
   "name": "python3"
  },
  "language_info": {
   "codemirror_mode": {
    "name": "ipython",
    "version": 3
   },
   "file_extension": ".py",
   "mimetype": "text/x-python",
   "name": "python",
   "nbconvert_exporter": "python",
   "pygments_lexer": "ipython3",
   "version": "3.5.2"
  }
 },
 "nbformat": 4,
 "nbformat_minor": 0
}
