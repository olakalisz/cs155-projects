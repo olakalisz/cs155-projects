{
 "cells": [
  {
   "cell_type": "markdown",
   "metadata": {},
   "source": [
    "# Overview\n",
    "This notebook generates the first layer of meta features."
   ]
  },
  {
   "cell_type": "code",
   "execution_count": 1,
   "metadata": {
    "collapsed": false
   },
   "outputs": [],
   "source": [
    "import numpy as np\n",
    "from sklearn.model_selection import KFold"
   ]
  },
  {
   "cell_type": "code",
   "execution_count": 2,
   "metadata": {
    "colab": {
     "autoexec": {
      "startup": false,
      "wait_interval": 0
     }
    },
    "colab_type": "code",
    "collapsed": false,
    "id": "43NFTsrLKeey"
   },
   "outputs": [],
   "source": [
    "training_data = np.loadtxt('../data/training_data.txt', skiprows=1)\n",
    "X_test = np.loadtxt('../data/test_data.txt', skiprows=1)"
   ]
  },
  {
   "cell_type": "code",
   "execution_count": 45,
   "metadata": {
    "collapsed": false
   },
   "outputs": [],
   "source": [
    "X_train = training_data[:,1:]\n",
    "y_train = training_data[:,0]\n",
    "kf = KFold(n_splits=5, shuffle=True, random_state=214)"
   ]
  },
  {
   "cell_type": "code",
   "execution_count": null,
   "metadata": {
    "collapsed": false
   },
   "outputs": [
    {
     "name": "stdout",
     "output_type": "stream",
     "text": [
      "Generating meta features for KNN k=2\n",
      "KNN k=2, split=1 manhattan\n"
     ]
    }
   ],
   "source": [
    "for power in range(1, 11):\n",
    "    k = 2 ** power\n",
    "    print('Generating meta features for KNN k=%d' % k)\n",
    "    train_results, test_results = KNN(k)\n",
    "    np.savetxt('../inferences/knn_%d_train.txt' % k ,train_results, fmt='%.6g')\n",
    "    np.savetxt('../inferences/knn_%d_train.txt' % k ,test_results, fmt='%.6g')"
   ]
  },
  {
   "cell_type": "code",
   "execution_count": 88,
   "metadata": {
    "collapsed": false
   },
   "outputs": [],
   "source": [
    "manhattan_classes = np.ones(y_train.shape)\n",
    "euclidean_classes = np.ones(y_train.shape)\n",
    "braycurtis_classes = np.ones(y_train.shape)\n",
    "tosave = np.stack((manhattan_classes, euclidean_classes, braycurtis_classes), axis=-1)\n",
    "k=2\n",
    "np.savetxt('../inferences/knn_%d_train.txt' % k,tosave, fmt='%.6g')\n"
   ]
  },
  {
   "cell_type": "code",
   "execution_count": 62,
   "metadata": {
    "collapsed": false
   },
   "outputs": [
    {
     "data": {
      "text/plain": [
       "(10000,)"
      ]
     },
     "execution_count": 62,
     "metadata": {},
     "output_type": "execute_result"
    }
   ],
   "source": [
    "np.empty(X_test.shape[0]).shape"
   ]
  },
  {
   "cell_type": "code",
   "execution_count": 91,
   "metadata": {
    "collapsed": false
   },
   "outputs": [],
   "source": [
    "from sklearn.neighbors import KNeighborsClassifier\n",
    "def KNN(k):\n",
    "    manhattan_classes_train = np.empty(y_train.shape)\n",
    "    euclidean_classes_train = np.empty(y_train.shape)\n",
    "    braycurtis_classes_train = np.empty(y_train.shape)\n",
    "    manhattan_classes_test = np.empty(X_test.shape[0])\n",
    "    euclidean_classes_test = np.empty(X_test.shape[0])\n",
    "    braycurtis_classes_test = np.empty(X_test.shape[0])\n",
    "    \n",
    "    cursplit = 0;\n",
    "    \n",
    "    for train_index, test_index in kf.split(X_train, y_train):\n",
    "        cursplit += 1\n",
    "        print('KNN k=%d, split=%d manhattan' % (k, cursplit))\n",
    "        knn = KNeighborsClassifier(n_neighbors=k, p=2)\n",
    "        knn.fit(X_train[train_index], y_train[train_index])\n",
    "        manhattan_classes[test_index] = knn.predict_proba(X_train[test_index])[:, 1]\n",
    "\n",
    "        print('KNN k=%d, split=%d euclidean' % (k, cursplit))\n",
    "        knn = KNeighborsClassifier(n_neighbors=k, p=1)\n",
    "        knn.fit(X_train[train_index], y_train[train_index])\n",
    "        euclidean_classes[test_index] = knn.predict_proba(X_train[test_index])[:, 1]\n",
    "\n",
    "        print('KNN k=%d, split=%d braycurtis' % (k, cursplit))\n",
    "        knn = KNeighborsClassifier(n_neighbors=k, metric='braycurtis')\n",
    "        knn.fit(X_train[train_index], y_train[train_index])\n",
    "        braycurtis_classes[test_index] = knn.predict_proba(X_train[test_index])[:, 1]\n",
    "    \n",
    "    print('KNN k=%d, test manhattan' % (k))\n",
    "    knn = KNeighborsClassifier(n_neighbors=k, p=2)\n",
    "    knn.fit(X_train, y_train)\n",
    "    manhattan_classes_test = knn.predict_proba(X_test)[:, 1]\n",
    "    \n",
    "    print('KNN k=%d, test euclidean' % (k))\n",
    "    knn = KNeighborsClassifier(n_neighbors=k, p=1)\n",
    "    knn.fit(X_train, y_train)\n",
    "    euclidean_classes_test = knn.predict_proba(X_test)[:, 1]\n",
    "    \n",
    "    print('KNN k=%d, test braycurtis' % (k))\n",
    "    knn = KNeighborsClassifier(n_neighbors=k, metric='braycurtis')\n",
    "    knn.fit(X_train, y_train)\n",
    "    braycurtis_classes_test = knn.predict_proba(X_test)[:, 1]\n",
    "\n",
    "    return [manhattan_classes, euclidean_classes, braycurtis_classes], [manhattan_classes_test, euclidean_classes_test, braycurtis_classes_test]"
   ]
  },
  {
   "cell_type": "code",
   "execution_count": 68,
   "metadata": {
    "collapsed": false
   },
   "outputs": [],
   "source": [
    "a = knn.predict_proba(X_train[:10])\n",
    "b = knn.predict_proba(X_train[:10])\n",
    "c = knn.predict_proba(X_train[:10])"
   ]
  },
  {
   "cell_type": "code",
   "execution_count": 86,
   "metadata": {
    "collapsed": true
   },
   "outputs": [],
   "source": [
    "# Calculate TF-IDF weighted inputs from training data\n",
    "max_term_freqs = np.maximum(np.max(X_train, axis=1), 1)\n",
    "term_freq = X_train / max_term_freqs[:,np.newaxis]\n",
    "inverse_doc_freq = np.log((X_train.shape[0] + X_test.shape[0]) / (np.count_nonzero(X_train, axis=0) + np.count_nonzero(X_test, axis=0)))\n",
    "X_train_tfidf = term_freq * inverse_doc_freq[np.newaxis,:]\n",
    "\n",
    "\n",
    "max_term_freqs_test = np.maximum(np.max(X_test, axis=1), 1)\n",
    "term_freq_test = X_test / max_term_freqs_test[:,np.newaxis]\n",
    "X_test_tfidf = term_freq_test * inverse_doc_freq[np.newaxis,:]\n",
    "\n",
    "X_mean = np.concatenate([X_train_tfidf,X_test_tfidf]).mean(axis=0)\n",
    "X_std = np.concatenate([X_train_tfidf,X_test_tfidf]).std(axis=0)\n",
    "X_train_tfidf_normed = (X_train_tfidf - X_mean) / X_std\n",
    "X_test_tfidf_normed = (X_test_tfidf - X_mean) / X_std"
   ]
  },
  {
   "cell_type": "markdown",
   "metadata": {},
   "source": [
    "# File format conversion for LibFFM"
   ]
  },
  {
   "cell_type": "code",
   "execution_count": 92,
   "metadata": {
    "collapsed": false
   },
   "outputs": [],
   "source": [
    "with open('../data/libffm/train_ffm.txt', 'w') as f:\n",
    "    for i in range(20000):\n",
    "        f.write(('1' if y_train[i] == 1 else '0'))\n",
    "        for j in range(1000):\n",
    "            val = X_train[i][j]\n",
    "            if val != 0:\n",
    "                f.write(' 0:' + str(j) + ':' + str(int(val)))\n",
    "        f.write('\\n')\n",
    "with open('../data/libffm/train_noval_ffm.txt', 'w') as f:\n",
    "    for i in range(20000):\n",
    "        if i % 10 == 0: continue\n",
    "        f.write(('1' if y_train[i] == 1 else '0'))\n",
    "        for j in range(1000):\n",
    "            val = X_train[i][j]\n",
    "            if val != 0:\n",
    "                f.write(' 0:' + str(j) + ':' + str(int(val)))\n",
    "        f.write('\\n')\n",
    "\n",
    "with open('../data/libffm/val_ffm.txt', 'w') as f:\n",
    "    for i in range(20000):\n",
    "        if i % 10 != 0: continue\n",
    "        f.write(('1' if y_train[i] == 1 else '0'))\n",
    "        for j in range(1000):\n",
    "            val = X_train[i][j]\n",
    "            if val != 0:\n",
    "                f.write(' 0:' + str(j) + ':' + str(int(val)))\n",
    "        f.write('\\n')\n",
    "with open('../data/libffm/test_ffm.txt', 'w') as f:\n",
    "    for i in range(10000):\n",
    "        f.write(('0'))\n",
    "        for j in range(1000):\n",
    "            val = X_test[i][j]\n",
    "            if val != 0:\n",
    "                f.write(' 0:' + str(j) + ':' + str(int(val)))\n",
    "        f.write('\\n')"
   ]
  },
  {
   "cell_type": "markdown",
   "metadata": {},
   "source": [
    "# File format conversion for Vowpal Wabbit"
   ]
  },
  {
   "cell_type": "code",
   "execution_count": 78,
   "metadata": {
    "collapsed": true
   },
   "outputs": [],
   "source": [
    "with open('../data/vowpal-wabbit/train_vw.txt', 'w') as f:\n",
    "    for i in range(int(X_test.shape[0])):\n",
    "        f.write(('1' if y_train[i] == 1 else '-1') + ' |')\n",
    "        for j in range(1000):\n",
    "            val = X_train[i][j]\n",
    "            if val != 0:\n",
    "                f.write(' ' + str(j) + ':' + str(int(val)))\n",
    "        f.write('\\n')"
   ]
  },
  {
   "cell_type": "code",
   "execution_count": 79,
   "metadata": {
    "collapsed": true
   },
   "outputs": [],
   "source": [
    "with open('../data/vowpal-wabbit/test_vw.txt', 'w') as f:\n",
    "    for i in range(int(X_test.shape[0])):\n",
    "        f.write('|')\n",
    "        for j in range(1000):\n",
    "            val = X_test[i][j]\n",
    "            if val != 0:\n",
    "                f.write(' ' + str(j) + ':' + str(int(val)))\n",
    "        f.write('\\n')"
   ]
  }
 ],
 "metadata": {
  "accelerator": "GPU",
  "colab": {
   "collapsed_sections": [],
   "default_view": {},
   "name": "MP1.ipynb",
   "provenance": [],
   "toc_visible": true,
   "version": "0.3.2",
   "views": {}
  },
  "kernelspec": {
   "display_name": "Python 3",
   "language": "python",
   "name": "python3"
  },
  "language_info": {
   "codemirror_mode": {
    "name": "ipython",
    "version": 3
   },
   "file_extension": ".py",
   "mimetype": "text/x-python",
   "name": "python",
   "nbconvert_exporter": "python",
   "pygments_lexer": "ipython3",
   "version": "3.5.2"
  }
 },
 "nbformat": 4,
 "nbformat_minor": 0
}
