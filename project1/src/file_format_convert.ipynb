{
 "cells": [
  {
   "cell_type": "markdown",
   "metadata": {},
   "source": [
    "# Overview\n",
    "This notebook converts the training & test file formats into ones usable by other tools."
   ]
  },
  {
   "cell_type": "code",
   "execution_count": 3,
   "metadata": {
    "colab": {
     "autoexec": {
      "startup": false,
      "wait_interval": 0
     }
    },
    "colab_type": "code",
    "collapsed": false,
    "id": "43NFTsrLKeey"
   },
   "outputs": [],
   "source": [
    "import numpy as np\n",
    "training_data = np.loadtxt('../data/training_data.txt', skiprows=1)\n",
    "X_test = np.loadtxt('../data/test_data.txt', skiprows=1)"
   ]
  },
  {
   "cell_type": "code",
   "execution_count": 5,
   "metadata": {
    "collapsed": false
   },
   "outputs": [
    {
     "name": "stderr",
     "output_type": "stream",
     "text": [
      "Using TensorFlow backend.\n"
     ]
    }
   ],
   "source": [
    "import keras\n",
    "X_train = training_data[:,1:]\n",
    "y_train = training_data[:,0]\n",
    "y_train_cat = keras.utils.to_categorical(y_train)"
   ]
  },
  {
   "cell_type": "code",
   "execution_count": 86,
   "metadata": {
    "collapsed": true
   },
   "outputs": [],
   "source": [
    "# Calculate TF-IDF weighted inputs from training data\n",
    "max_term_freqs = np.maximum(np.max(X_train, axis=1), 1)\n",
    "term_freq = X_train / max_term_freqs[:,np.newaxis]\n",
    "inverse_doc_freq = np.log((X_train.shape[0] + X_test.shape[0]) / (np.count_nonzero(X_train, axis=0) + np.count_nonzero(X_test, axis=0)))\n",
    "X_train_tfidf = term_freq * inverse_doc_freq[np.newaxis,:]\n",
    "\n",
    "\n",
    "max_term_freqs_test = np.maximum(np.max(X_test, axis=1), 1)\n",
    "term_freq_test = X_test / max_term_freqs_test[:,np.newaxis]\n",
    "X_test_tfidf = term_freq_test * inverse_doc_freq[np.newaxis,:]\n",
    "\n",
    "X_mean = np.concatenate([X_train_tfidf,X_test_tfidf]).mean(axis=0)\n",
    "X_std = np.concatenate([X_train_tfidf,X_test_tfidf]).std(axis=0)\n",
    "X_train_tfidf_normed = (X_train_tfidf - X_mean) / X_std\n",
    "X_test_tfidf_normed = (X_test_tfidf - X_mean) / X_std"
   ]
  },
  {
   "cell_type": "markdown",
   "metadata": {},
   "source": [
    "# File format conversion for LibFFM"
   ]
  },
  {
   "cell_type": "code",
   "execution_count": 92,
   "metadata": {
    "collapsed": false
   },
   "outputs": [],
   "source": [
    "with open('../data/libffm/train_ffm.txt', 'w') as f:\n",
    "    for i in range(20000):\n",
    "        f.write(('1' if y_train[i] == 1 else '0'))\n",
    "        for j in range(1000):\n",
    "            val = X_train[i][j]\n",
    "            if val != 0:\n",
    "                f.write(' 0:' + str(j) + ':' + str(int(val)))\n",
    "        f.write('\\n')\n",
    "with open('../data/libffm/train_noval_ffm.txt', 'w') as f:\n",
    "    for i in range(20000):\n",
    "        if i % 10 == 0: continue\n",
    "        f.write(('1' if y_train[i] == 1 else '0'))\n",
    "        for j in range(1000):\n",
    "            val = X_train[i][j]\n",
    "            if val != 0:\n",
    "                f.write(' 0:' + str(j) + ':' + str(int(val)))\n",
    "        f.write('\\n')\n",
    "\n",
    "with open('../data/libffm/val_ffm.txt', 'w') as f:\n",
    "    for i in range(20000):\n",
    "        if i % 10 != 0: continue\n",
    "        f.write(('1' if y_train[i] == 1 else '0'))\n",
    "        for j in range(1000):\n",
    "            val = X_train[i][j]\n",
    "            if val != 0:\n",
    "                f.write(' 0:' + str(j) + ':' + str(int(val)))\n",
    "        f.write('\\n')\n",
    "with open('../data/libffm/test_ffm.txt', 'w') as f:\n",
    "    for i in range(10000):\n",
    "        f.write(('0'))\n",
    "        for j in range(1000):\n",
    "            val = X_test[i][j]\n",
    "            if val != 0:\n",
    "                f.write(' 0:' + str(j) + ':' + str(int(val)))\n",
    "        f.write('\\n')"
   ]
  },
  {
   "cell_type": "markdown",
   "metadata": {},
   "source": [
    "# File format conversion for Vowpal Wabbit"
   ]
  },
  {
   "cell_type": "code",
   "execution_count": 6,
   "metadata": {
    "collapsed": false
   },
   "outputs": [],
   "source": [
    "with open('../data/vowpal-wabbit/train_vw.txt', 'w') as f:\n",
    "    for i in range(int(X_train.shape[0])):\n",
    "        f.write(('1' if y_train[i] == 1 else '-1') + ' |')\n",
    "        for j in range(1000):\n",
    "            val = X_train[i][j]\n",
    "            if val != 0:\n",
    "                f.write(' ' + str(j) + ':' + str(int(val)))\n",
    "        f.write('\\n')"
   ]
  },
  {
   "cell_type": "code",
   "execution_count": 79,
   "metadata": {
    "collapsed": true
   },
   "outputs": [],
   "source": [
    "with open('../data/vowpal-wabbit/test_vw.txt', 'w') as f:\n",
    "    for i in range(int(X_test.shape[0])):\n",
    "        f.write('|')\n",
    "        for j in range(1000):\n",
    "            val = X_test[i][j]\n",
    "            if val != 0:\n",
    "                f.write(' ' + str(j) + ':' + str(int(val)))\n",
    "        f.write('\\n')"
   ]
  }
 ],
 "metadata": {
  "accelerator": "GPU",
  "colab": {
   "collapsed_sections": [],
   "default_view": {},
   "name": "MP1.ipynb",
   "provenance": [],
   "toc_visible": true,
   "version": "0.3.2",
   "views": {}
  },
  "kernelspec": {
   "display_name": "Python 3",
   "language": "python",
   "name": "python3"
  },
  "language_info": {
   "codemirror_mode": {
    "name": "ipython",
    "version": 3
   },
   "file_extension": ".py",
   "mimetype": "text/x-python",
   "name": "python",
   "nbconvert_exporter": "python",
   "pygments_lexer": "ipython3",
   "version": "3.5.2"
  }
 },
 "nbformat": 4,
 "nbformat_minor": 0
}
